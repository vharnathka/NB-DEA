{
 "cells": [
  {
   "cell_type": "code",
   "execution_count": 1,
   "id": "9e5a9cd4",
   "metadata": {},
   "outputs": [],
   "source": [
    "import sys\n",
    "import pandas as pd"
   ]
  },
  {
   "cell_type": "code",
   "execution_count": 2,
   "id": "e9f7912a",
   "metadata": {},
   "outputs": [],
   "source": [
    "og_input = pd.read_csv(\"nb-deainput.csv\", index_col=0)"
   ]
  },
  {
   "cell_type": "code",
   "execution_count": 4,
   "id": "9ce14fd0",
   "metadata": {},
   "outputs": [],
   "source": [
    "samplenumA = 3\n",
    "samplenumB = 3"
   ]
  },
  {
   "cell_type": "code",
   "execution_count": null,
   "id": "7aa4de14",
   "metadata": {},
   "outputs": [],
   "source": [
    "samplestotal = samplenumA+samplenumB"
   ]
  },
  {
   "cell_type": "code",
   "execution_count": 5,
   "id": "8e083e1d",
   "metadata": {},
   "outputs": [
    {
     "ename": "SyntaxError",
     "evalue": "invalid syntax (2742552933.py, line 1)",
     "output_type": "error",
     "traceback": [
      "\u001b[0;36m  File \u001b[0;32m\"/tmp/ipykernel_86274/2742552933.py\"\u001b[0;36m, line \u001b[0;32m1\u001b[0m\n\u001b[0;31m    og_input[:, [samplestotal: samplestotal+samplestotal]]\u001b[0m\n\u001b[0m                             ^\u001b[0m\n\u001b[0;31mSyntaxError\u001b[0m\u001b[0;31m:\u001b[0m invalid syntax\n"
     ]
    }
   ],
   "source": [
    "og_input.iloc[:, samplestotal: samplestotal+samplestotal]"
   ]
  },
  {
   "cell_type": "code",
   "execution_count": null,
   "id": "ec043073",
   "metadata": {},
   "outputs": [],
   "source": [
    "selected_columns = df.iloc[:, [0, 1]]\n"
   ]
  }
 ],
 "metadata": {
  "kernelspec": {
   "display_name": "Python 3 (clean)",
   "language": "python",
   "name": "python3_clean"
  },
  "language_info": {
   "codemirror_mode": {
    "name": "ipython",
    "version": 3
   },
   "file_extension": ".py",
   "mimetype": "text/x-python",
   "name": "python",
   "nbconvert_exporter": "python",
   "pygments_lexer": "ipython3",
   "version": "3.9.5"
  }
 },
 "nbformat": 4,
 "nbformat_minor": 5
}
