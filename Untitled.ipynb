{
 "cells": [
  {
   "cell_type": "code",
   "execution_count": 1,
   "id": "03dea53a",
   "metadata": {},
   "outputs": [],
   "source": [
    "import sys\n",
    "import pandas as pd"
   ]
  },
  {
   "cell_type": "code",
   "execution_count": 2,
   "id": "a66b0881",
   "metadata": {},
   "outputs": [],
   "source": [
    "og_input = pd.read_csv(\"nb-deainput.csv\", index_col=0)"
   ]
  },
  {
   "cell_type": "code",
   "execution_count": 4,
   "id": "d569285e",
   "metadata": {},
   "outputs": [],
   "source": [
    "samplenumA = 3\n",
    "samplenumB = 3"
   ]
  },
  {
   "cell_type": "code",
   "execution_count": 7,
   "id": "07004fd1",
   "metadata": {},
   "outputs": [],
   "source": [
    "samplestotal = samplenumA+samplenumB"
   ]
  },
  {
   "cell_type": "code",
   "execution_count": 9,
   "id": "965e70c4",
   "metadata": {},
   "outputs": [],
   "source": [
    "counts = og_input.iloc[:, samplestotal: 2*samplestotal]"
   ]
  },
  {
   "cell_type": "code",
   "execution_count": 11,
   "id": "38b09876",
   "metadata": {},
   "outputs": [],
   "source": [
    "avglength = og_input.iloc[:, 2*samplestotal: 3*samplestotal]"
   ]
  },
  {
   "cell_type": "code",
   "execution_count": 12,
   "id": "74951009",
   "metadata": {},
   "outputs": [
    {
     "data": {
      "text/html": [
       "<div>\n",
       "<style scoped>\n",
       "    .dataframe tbody tr th:only-of-type {\n",
       "        vertical-align: middle;\n",
       "    }\n",
       "\n",
       "    .dataframe tbody tr th {\n",
       "        vertical-align: top;\n",
       "    }\n",
       "\n",
       "    .dataframe thead th {\n",
       "        text-align: right;\n",
       "    }\n",
       "</style>\n",
       "<table border=\"1\" class=\"dataframe\">\n",
       "  <thead>\n",
       "    <tr style=\"text-align: right;\">\n",
       "      <th></th>\n",
       "      <th>length.1</th>\n",
       "      <th>length.2</th>\n",
       "      <th>length.3</th>\n",
       "      <th>length.4</th>\n",
       "      <th>length.5</th>\n",
       "      <th>length.6</th>\n",
       "    </tr>\n",
       "  </thead>\n",
       "  <tbody>\n",
       "    <tr>\n",
       "      <th>ENSMUSG00000000001</th>\n",
       "      <td>3213.00</td>\n",
       "      <td>3213.00</td>\n",
       "      <td>3213.00</td>\n",
       "      <td>3213.00</td>\n",
       "      <td>3213.0</td>\n",
       "      <td>3213.00</td>\n",
       "    </tr>\n",
       "    <tr>\n",
       "      <th>ENSMUSG00000000003</th>\n",
       "      <td>750.50</td>\n",
       "      <td>750.50</td>\n",
       "      <td>750.50</td>\n",
       "      <td>750.50</td>\n",
       "      <td>750.5</td>\n",
       "      <td>750.50</td>\n",
       "    </tr>\n",
       "    <tr>\n",
       "      <th>ENSMUSG00000000028</th>\n",
       "      <td>2094.00</td>\n",
       "      <td>1470.08</td>\n",
       "      <td>1957.50</td>\n",
       "      <td>1811.20</td>\n",
       "      <td>1867.8</td>\n",
       "      <td>2035.80</td>\n",
       "    </tr>\n",
       "    <tr>\n",
       "      <th>ENSMUSG00000000031</th>\n",
       "      <td>1219.60</td>\n",
       "      <td>403.00</td>\n",
       "      <td>1219.60</td>\n",
       "      <td>768.00</td>\n",
       "      <td>886.0</td>\n",
       "      <td>768.00</td>\n",
       "    </tr>\n",
       "    <tr>\n",
       "      <th>ENSMUSG00000000037</th>\n",
       "      <td>3248.14</td>\n",
       "      <td>4793.01</td>\n",
       "      <td>3248.14</td>\n",
       "      <td>3248.14</td>\n",
       "      <td>3501.0</td>\n",
       "      <td>3248.14</td>\n",
       "    </tr>\n",
       "    <tr>\n",
       "      <th>...</th>\n",
       "      <td>...</td>\n",
       "      <td>...</td>\n",
       "      <td>...</td>\n",
       "      <td>...</td>\n",
       "      <td>...</td>\n",
       "      <td>...</td>\n",
       "    </tr>\n",
       "    <tr>\n",
       "      <th>ENSMUSG00000099329</th>\n",
       "      <td>331.00</td>\n",
       "      <td>331.00</td>\n",
       "      <td>331.00</td>\n",
       "      <td>331.00</td>\n",
       "      <td>331.0</td>\n",
       "      <td>331.00</td>\n",
       "    </tr>\n",
       "    <tr>\n",
       "      <th>ENSMUSG00000099330</th>\n",
       "      <td>24.00</td>\n",
       "      <td>24.00</td>\n",
       "      <td>24.00</td>\n",
       "      <td>24.00</td>\n",
       "      <td>24.0</td>\n",
       "      <td>24.00</td>\n",
       "    </tr>\n",
       "    <tr>\n",
       "      <th>ENSMUSG00000099331</th>\n",
       "      <td>8.00</td>\n",
       "      <td>8.00</td>\n",
       "      <td>8.00</td>\n",
       "      <td>8.00</td>\n",
       "      <td>8.0</td>\n",
       "      <td>8.00</td>\n",
       "    </tr>\n",
       "    <tr>\n",
       "      <th>ENSMUSG00000099332</th>\n",
       "      <td>150.00</td>\n",
       "      <td>150.00</td>\n",
       "      <td>150.00</td>\n",
       "      <td>150.00</td>\n",
       "      <td>150.0</td>\n",
       "      <td>150.00</td>\n",
       "    </tr>\n",
       "    <tr>\n",
       "      <th>ENSMUSG00000099334</th>\n",
       "      <td>89.00</td>\n",
       "      <td>89.00</td>\n",
       "      <td>89.00</td>\n",
       "      <td>89.00</td>\n",
       "      <td>89.0</td>\n",
       "      <td>89.00</td>\n",
       "    </tr>\n",
       "  </tbody>\n",
       "</table>\n",
       "<p>39017 rows × 6 columns</p>\n",
       "</div>"
      ],
      "text/plain": [
       "                    length.1  length.2  length.3  length.4  length.5  length.6\n",
       "ENSMUSG00000000001   3213.00   3213.00   3213.00   3213.00    3213.0   3213.00\n",
       "ENSMUSG00000000003    750.50    750.50    750.50    750.50     750.5    750.50\n",
       "ENSMUSG00000000028   2094.00   1470.08   1957.50   1811.20    1867.8   2035.80\n",
       "ENSMUSG00000000031   1219.60    403.00   1219.60    768.00     886.0    768.00\n",
       "ENSMUSG00000000037   3248.14   4793.01   3248.14   3248.14    3501.0   3248.14\n",
       "...                      ...       ...       ...       ...       ...       ...\n",
       "ENSMUSG00000099329    331.00    331.00    331.00    331.00     331.0    331.00\n",
       "ENSMUSG00000099330     24.00     24.00     24.00     24.00      24.0     24.00\n",
       "ENSMUSG00000099331      8.00      8.00      8.00      8.00       8.0      8.00\n",
       "ENSMUSG00000099332    150.00    150.00    150.00    150.00     150.0    150.00\n",
       "ENSMUSG00000099334     89.00     89.00     89.00     89.00      89.0     89.00\n",
       "\n",
       "[39017 rows x 6 columns]"
      ]
     },
     "execution_count": 12,
     "metadata": {},
     "output_type": "execute_result"
    }
   ],
   "source": [
    "avglength"
   ]
  }
 ],
 "metadata": {
  "kernelspec": {
   "display_name": "Python 3 (clean)",
   "language": "python",
   "name": "python3_clean"
  },
  "language_info": {
   "codemirror_mode": {
    "name": "ipython",
    "version": 3
   },
   "file_extension": ".py",
   "mimetype": "text/x-python",
   "name": "python",
   "nbconvert_exporter": "python",
   "pygments_lexer": "ipython3",
   "version": "3.9.5"
  }
 },
 "nbformat": 4,
 "nbformat_minor": 5
}
